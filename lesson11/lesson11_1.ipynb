{
 "cells": [
  {
   "cell_type": "code",
   "execution_count": 1,
   "id": "c029ad9f",
   "metadata": {},
   "outputs": [
    {
     "name": "stdout",
     "output_type": "stream",
     "text": [
      "[['林世城', 81, 75, 70], ['王怡君', 92, 67, 94], ['馬彥文', 78, 73, 62]]\n"
     ]
    }
   ],
   "source": [
    "#有一個names.txt\n",
    "#讀取names.txt\n",
    "#請隨機取出3個名字\n",
    "#建立2維的list,結構如下\n",
    "#每個姓名有3個分數,分數是(50~100)的隨機數\n",
    "#輸出結果：[['陳怡伶',67,92,97],['馮芳如',98,86,75],['蒙淑惠',76,65,59]]\n",
    "\n",
    "import random\n",
    "with open(\"names.txt\", encoding=\"utf-8\") as file:\n",
    "    content: str = file.read()\n",
    "    names: list = content.split(\"\\n\")\n",
    "    names = random.sample(names, 3)  # 隨機取出3個名字\n",
    "    scores: list = [[random.randint(50, 100) for _ in range(3)] for _ in names]\n",
    "    names = [[name] + score for name, score in zip(names, scores)]  # 合併姓名和分數\n",
    "    print(names)"
   ]
  },
  {
   "cell_type": "code",
   "execution_count": 4,
   "id": "1e7ffd3e",
   "metadata": {},
   "outputs": [
    {
     "name": "stdout",
     "output_type": "stream",
     "text": [
      "[['林佳蓉', 78, 85, 73], ['張天亨', 57, 69, 100], ['林柏洋', 87, 95, 84]]\n"
     ]
    }
   ],
   "source": [
    "#有一個names.txt\n",
    "#讀取names.txt\n",
    "#請隨機取出3個名字\n",
    "import random\n",
    "\n",
    "def sample_names_from_file(file_name: str, nums: int = 1) -> list[str]:\n",
    "    \"\"\"\n",
    "    從檔案取名字並隨機取出指定數量的名字。\n",
    "\n",
    "    參數:\n",
    "        file_name (str): 包含名字的檔案路徑，每行一個名字。\n",
    "        nums (int, 選填): 要隨機取出的名字數量，預設為1。\n",
    "\n",
    "    回傳:\n",
    "        list[str]: 隨機取出的名字列表。\n",
    "    \"\"\"\n",
    "    with open(file_name, encoding=\"utf-8\") as file:\n",
    "        content: str = file.read()\n",
    "        names: list[str] = content.split()\n",
    "        return random.sample(names, nums)\n",
    "    \n",
    "#建立一個自訂function,這個參數會傳入一個name\n",
    "#建立2維的list,結構如下\n",
    "#每個姓名有3個分數,分數是(50~100)的隨機數\n",
    "#輸出結果：[['陳怡伶',67,92,97],['馮芳如',98,86,75],['蒙淑惠',76,65,59]]\n",
    "def generate_scores_for_names(name_list: list[str], score_count: int = 3) -> list[list]:\n",
    "    \"\"\"\n",
    "    為每個名字生成隨機分數。\n",
    "\n",
    "    參數:\n",
    "        name_list (list[str]): 名字列表。\n",
    "        score_count (int, 選填): 每個名字的分數數量，預設為3。\n",
    "\n",
    "    回傳:\n",
    "        list[list]: 包含名字和隨機分數的二維列表。\n",
    "    \"\"\"\n",
    "    result_list = []\n",
    "    for single_name in name_list:\n",
    "        scores = [random.randint(50, 100) for _ in range(score_count)]\n",
    "        row = [single_name] + scores\n",
    "        result_list.append(row)\n",
    "    return result_list\n",
    "\n",
    "\n",
    "def main():\n",
    "    names: list[str] = sample_names_from_file(\"names.txt\", nums=3)\n",
    "    scores: list[list] = generate_scores_for_names(names)\n",
    "    print(scores)\n",
    "\n",
    "if __name__ == \"__main__\":\n",
    "    main()\n"
   ]
  },
  {
   "cell_type": "code",
   "execution_count": 12,
   "id": "8abb00c5",
   "metadata": {},
   "outputs": [
    {
     "name": "stdout",
     "output_type": "stream",
     "text": [
      "0\n",
      "1\n",
      "2\n"
     ]
    }
   ],
   "source": [
    "for i in range(3):\n",
    "    print(i)"
   ]
  },
  {
   "cell_type": "code",
   "execution_count": 2,
   "id": "3ab4ea2b",
   "metadata": {},
   "outputs": [
    {
     "data": {
      "text/plain": [
       "'Taiwan'"
      ]
     },
     "execution_count": 2,
     "metadata": {},
     "output_type": "execute_result"
    }
   ],
   "source": [
    "#dict,一組有關聯的資料\n",
    "\n",
    "country_codes = {\n",
    "  \"tw\": \"Taiwan\",\n",
    "  \"jp\": \"Japan\",\n",
    "  \"us\": \"United States\"\n",
    "}\n",
    "country_codes[\"es\"] = \"Spain\"  # 新增一個國家\n",
    "country_codes[\"tw\"] "
   ]
  },
  {
   "cell_type": "code",
   "execution_count": 4,
   "id": "55ffb86f",
   "metadata": {},
   "outputs": [
    {
     "data": {
      "text/plain": [
       "{'tw': 'Taiwan', 'jp': 'Japan', 'us': 'United States', 'es': 'Spain'}"
      ]
     },
     "execution_count": 4,
     "metadata": {},
     "output_type": "execute_result"
    }
   ],
   "source": [
    "country_codes[\"jp\"]  # 取得日本的名稱\n",
    "country_codes"
   ]
  }
 ],
 "metadata": {
  "kernelspec": {
   "display_name": "base",
   "language": "python",
   "name": "python3"
  },
  "language_info": {
   "codemirror_mode": {
    "name": "ipython",
    "version": 3
   },
   "file_extension": ".py",
   "mimetype": "text/x-python",
   "name": "python",
   "nbconvert_exporter": "python",
   "pygments_lexer": "ipython3",
   "version": "3.13.2"
  }
 },
 "nbformat": 4,
 "nbformat_minor": 5
}
