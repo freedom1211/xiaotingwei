{
 "cells": [
  {
   "cell_type": "code",
   "execution_count": 1,
   "id": "87e1300f",
   "metadata": {},
   "outputs": [
    {
     "name": "stdout",
     "output_type": "stream",
     "text": [
      "Python 3.13.2\n"
     ]
    }
   ],
   "source": [
    "!python --version"
   ]
  },
  {
   "cell_type": "code",
   "execution_count": 2,
   "id": "b4790584",
   "metadata": {},
   "outputs": [
    {
     "name": "stdout",
     "output_type": "stream",
     "text": [
      "Hello! Python!\n"
     ]
    }
   ],
   "source": [
    "print(\"Hello! Python!\")"
   ]
  },
  {
   "cell_type": "code",
   "execution_count": 3,
   "id": "0322c1db",
   "metadata": {},
   "outputs": [],
   "source": [
    "#python的純值表示法\n",
    "#整數(int)\n",
    "15\n",
    "\n",
    "#浮點數(float)\n",
    "15.0\n",
    "\n",
    "#字串(str)\n",
    "\"15\"\n",
    "\n",
    "#bool\n",
    "True\n",
    "False\n",
    "\n",
    "#空值\n",
    "None"
   ]
  },
  {
   "cell_type": "code",
   "execution_count": 11,
   "id": "da9537e1",
   "metadata": {},
   "outputs": [
    {
     "name": "stdout",
     "output_type": "stream",
     "text": [
      "13\n",
      "80\n",
      "28\n",
      "3.5\n",
      "3\n",
      "1\n",
      "81\n"
     ]
    }
   ],
   "source": [
    "#數學運算子\n",
    "#2元運算子\n",
    "#運算式(傳出數值)\n",
    "#整數+整數\n",
    "print(5+8)\n",
    "\n",
    "print(90 - 10 )\n",
    "\n",
    "print(4 * 7)\n",
    "\n",
    "print(7 / 2) #浮點數除法\n",
    "\n",
    "print(7 // 2) #整數除法\n",
    "\n",
    "print(7 % 3) #餘數\n",
    "\n",
    "print(3 ** 4)"
   ]
  },
  {
   "cell_type": "code",
   "execution_count": null,
   "id": "6f3442ae",
   "metadata": {},
   "outputs": [
    {
     "name": "stdout",
     "output_type": "stream",
     "text": [
      "<class 'int'>\n",
      "<class 'str'>\n",
      "<class 'float'>\n",
      "<class 'tuple'>\n",
      "1000\n",
      "123.0\n",
      "HelloHelloHelloHelloHelloHelloHelloHelloHelloHello\n",
      "test\n"
     ]
    }
   ],
   "source": [
    "#變數練習\n",
    "openedx = 100\n",
    "print(openedx.__class__)\n",
    "openedx = \"100\"\n",
    "print(type(openedx))\n",
    "openedx = 100.123\n",
    "print(type(openedx))\n",
    "openedx = 100,'test'\n",
    "print(openedx.__class__)\n",
    "a = 100\n",
    "b = a * 10\n",
    "print(b)\n",
    "a = 12.3\n",
    "b = a * 10\n",
    "print(b)\n",
    "a = \"Hello\"\n",
    "b = a * 10\n",
    "print(b)\n",
    "x = 50\n",
    "x = \"test\"\n",
    "print(x)"
   ]
  },
  {
   "cell_type": "code",
   "execution_count": null,
   "id": "c279160c",
   "metadata": {},
   "outputs": [
    {
     "name": "stdout",
     "output_type": "stream",
     "text": [
      "10 3.14 test\n",
      "10 3.14 test\n"
     ]
    }
   ],
   "source": [
    "#3-1資料交換擴充\n",
    "a = 10\n",
    "b = 3.14\n",
    "c =\"test\"\n",
    "print(a,b,c)\n",
    "a,b,c = 10,3.14,\"test\"\n",
    "print(a,b,c)"
   ]
  },
  {
   "cell_type": "code",
   "execution_count": 13,
   "id": "5bd622c5",
   "metadata": {},
   "outputs": [
    {
     "name": "stdout",
     "output_type": "stream",
     "text": [
      "10 test\n",
      "test 10\n",
      "test 9.28 10\n"
     ]
    }
   ],
   "source": [
    "#只有python可以直接進行兩個變數的交換\n",
    "a = 10;b = 3.14;c = \"test\"\n",
    "print(a,c)\n",
    "a,c = c,a\n",
    "print(a,c)\n",
    "b = 9.28\n",
    "print(a,b,c)"
   ]
  },
  {
   "cell_type": "code",
   "execution_count": 17,
   "id": "ba3ce755",
   "metadata": {},
   "outputs": [
    {
     "name": "stdout",
     "output_type": "stream",
     "text": [
      "你的 年齡是 28\n",
      "你的年齡是 28\n",
      "你的年齡是28\n",
      "abc!abc!\n"
     ]
    }
   ],
   "source": [
    "#字串與變數之間可以用+符號進行連接\n",
    "year = 28\n",
    "str1 = \"你的\"\n",
    "str2 = \"年齡是\"\n",
    "print(str1,str2,year)\n",
    "print(str1+str2,year)\n",
    "print(str1+str2+str(year))\n",
    "test = (\"abc\"+\"!\") * 2\n",
    "print(test)"
   ]
  },
  {
   "cell_type": "code",
   "execution_count": null,
   "id": "572d1170",
   "metadata": {},
   "outputs": [
    {
     "name": "stdout",
     "output_type": "stream",
     "text": [
      "3 6 9\n",
      "30 30 30\n",
      "30 30\n",
      "2016\n"
     ]
    }
   ],
   "source": [
    "x,y,z = 3,6,9\n",
    "print(x,y,z)\n",
    "x = y = z = 30 #只有python可以\n",
    "print(x,y,z)\n",
    "del y #執行後y就不存在\n",
    "print(x,z)\n",
    "a,b,c = \"pcschool\",2016,3.14\n",
    "print(b)"
   ]
  },
  {
   "cell_type": "code",
   "execution_count": 28,
   "id": "3b7d0b65",
   "metadata": {},
   "outputs": [
    {
     "name": "stdout",
     "output_type": "stream",
     "text": [
      "13\n",
      "7\n",
      "30\n",
      "3.3333333333333335\n",
      "3\n",
      "2.0\n",
      "2\n"
     ]
    }
   ],
   "source": [
    "#整數與浮點數計算是否有差異?\n",
    "a,b = 10,3\n",
    "print(a+b)\n",
    "print(a-b)\n",
    "print(a * b)\n",
    "print(a / b)\n",
    "print(a // b)\n",
    "a,b = 10,5\n",
    "print(a / b) #float\n",
    "print(a // b) #int"
   ]
  },
  {
   "cell_type": "code",
   "execution_count": 33,
   "id": "9aff461a",
   "metadata": {},
   "outputs": [
    {
     "name": "stdout",
     "output_type": "stream",
     "text": [
      "整數資料為 10\n",
      "整數資料為10\n",
      "浮點數資料為 3.14\n",
      "浮點數資料為3.14\n"
     ]
    }
   ],
   "source": [
    "a,b = 10,3.14\n",
    "print(\"整數資料為\",a)\n",
    "print(\"整數資料為\"+str(a))\n",
    "print(\"浮點數資料為\",b)\n",
    "print(\"浮點數資料為\"+str(b))"
   ]
  },
  {
   "cell_type": "code",
   "execution_count": 45,
   "id": "dc1eaa24",
   "metadata": {},
   "outputs": [
    {
     "name": "stdout",
     "output_type": "stream",
     "text": [
      "<class 'str'>\n",
      "5050\n",
      "<class 'int'>\n",
      "100\n",
      "<class 'float'>\n",
      "6.28\n"
     ]
    }
   ],
   "source": [
    "#如何輸入資料?\n",
    "a = input(\"請輸入一個數字\")\n",
    "print(type(a))\n",
    "b = a * 2\n",
    "print(b)\n",
    "a = int(input(\"請輸入一個整數\"))\n",
    "print(type(a))\n",
    "b = a * 2\n",
    "print(b)\n",
    "a = float(input(\"請輸入一個浮點數\"))\n",
    "print(type(a))\n",
    "b = a * 2\n",
    "print(b)"
   ]
  },
  {
   "cell_type": "code",
   "execution_count": 54,
   "id": "455a5737",
   "metadata": {},
   "outputs": [
    {
     "name": "stdout",
     "output_type": "stream",
     "text": [
      "<class 'str'>\n",
      "1010\n",
      "可能輸入有點小問題,麻煩你檢查\n"
     ]
    }
   ],
   "source": [
    "#如何輸入資料?\n",
    "a = input(\"拜託你一定肯定確定就是輸入一個整數\")\n",
    "print(type(a))\n",
    "b = a * 2\n",
    "print(b)\n",
    "print(\"可能輸入有點小問題,麻煩你檢查\")"
   ]
  },
  {
   "cell_type": "code",
   "execution_count": 4,
   "id": "aa6c6f6f",
   "metadata": {},
   "outputs": [],
   "source": [
    "#判斷成績\n",
    "score =int(input(\"請輸入成績\"))\n",
    "if score > 75:print(\"很棒\")"
   ]
  },
  {
   "cell_type": "code",
   "execution_count": 7,
   "id": "e8666aad",
   "metadata": {},
   "outputs": [
    {
     "name": "stdout",
     "output_type": "stream",
     "text": [
      "大於18\n",
      "執行結束\n"
     ]
    }
   ],
   "source": [
    "a = 21\n",
    "if a > 18:print(\"大於18\")\n",
    "else:print(\"小於18\")\n",
    "print(\"執行結束\")"
   ]
  },
  {
   "cell_type": "code",
   "execution_count": 15,
   "id": "9fcd04ad",
   "metadata": {},
   "outputs": [
    {
     "name": "stdout",
     "output_type": "stream",
     "text": [
      "等於12\n",
      "執行結束\n"
     ]
    }
   ],
   "source": [
    "a = 12\n",
    "if a != 12:print(\"不等於12\")\n",
    "else:print(\"等於12\")\n",
    "print(\"執行結束\")"
   ]
  },
  {
   "cell_type": "code",
   "execution_count": 19,
   "id": "a09d1307",
   "metadata": {},
   "outputs": [
    {
     "name": "stdout",
     "output_type": "stream",
     "text": [
      "小於12\n"
     ]
    }
   ],
   "source": [
    "#加入elif\n",
    "a = int(input(\"請輸入一個數字\"))\n",
    "if a >18:print(\"大於18\")\n",
    "elif a > 12:print(\"大於12\")\n",
    "else:print(\"小於12\")"
   ]
  },
  {
   "cell_type": "code",
   "execution_count": 21,
   "id": "de8f4a5d",
   "metadata": {},
   "outputs": [
    {
     "name": "stdout",
     "output_type": "stream",
     "text": [
      "ok-1\n",
      "ok-2\n",
      "ok-3\n"
     ]
    }
   ],
   "source": [
    "#邏輯分析\n",
    "a = 14\n",
    "if a >= 12 and a < 18 :print(\"ok-1\")\n",
    "else:print(\"cancel-1\")\n",
    "if 12 <= a <18:print(\"ok-2\")\n",
    "else:print(\"cancel-2\")\n",
    "if a >= 12 or a < 18:print(\"ok-3\")\n",
    "else:print(\"cancel-3\")"
   ]
  },
  {
   "cell_type": "code",
   "execution_count": 23,
   "id": "538d6cfb",
   "metadata": {},
   "outputs": [
    {
     "name": "stdout",
     "output_type": "stream",
     "text": [
      "ok-1\n",
      "1\n",
      "3\n"
     ]
    }
   ],
   "source": [
    "a = 11\n",
    "if a >= 12 or a < 18:print(\"ok-1\")\n",
    "else:print(\"cancel-1\")\n",
    "a = 14\n",
    "if a >= 12 and a < 18:print(\"1\")\n",
    "else:print(\"2\")\n",
    "if 12 <= a <18:print(\"3\")\n",
    "else:print(\"4\")"
   ]
  },
  {
   "cell_type": "code",
   "execution_count": 42,
   "id": "0fec20f2",
   "metadata": {},
   "outputs": [
    {
     "name": "stdout",
     "output_type": "stream",
     "text": [
      "肥胖\n"
     ]
    }
   ],
   "source": [
    "#回家作業\n",
    "bmi = float(input(\"請數入你的身體指數\"))\n",
    "if bmi < 18.5:print(\"太輕\")\n",
    "if 18.5 <= bmi <25 :print(\"正常\")\n",
    "if   25<bmi<=30:print(\"過重\")\n",
    "if bmi >30:print(\"肥胖\")"
   ]
  }
 ],
 "metadata": {
  "kernelspec": {
   "display_name": "base",
   "language": "python",
   "name": "python3"
  },
  "language_info": {
   "codemirror_mode": {
    "name": "ipython",
    "version": 3
   },
   "file_extension": ".py",
   "mimetype": "text/x-python",
   "name": "python",
   "nbconvert_exporter": "python",
   "pygments_lexer": "ipython3",
   "version": "3.13.2"
  }
 },
 "nbformat": 4,
 "nbformat_minor": 5
}
