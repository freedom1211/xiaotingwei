{
 "cells": [
  {
   "cell_type": "code",
   "execution_count": 1,
   "id": "87e1300f",
   "metadata": {},
   "outputs": [
    {
     "name": "stdout",
     "output_type": "stream",
     "text": [
      "Python 3.13.2\n"
     ]
    }
   ],
   "source": [
    "!python --version"
   ]
  },
  {
   "cell_type": "code",
   "execution_count": 2,
   "id": "b4790584",
   "metadata": {},
   "outputs": [
    {
     "name": "stdout",
     "output_type": "stream",
     "text": [
      "Hello! Python!\n"
     ]
    }
   ],
   "source": [
    "print(\"Hello! Python!\")"
   ]
  },
  {
   "cell_type": "code",
   "execution_count": 3,
   "id": "0322c1db",
   "metadata": {},
   "outputs": [],
   "source": [
    "#python的純值表示法\n",
    "#整數(int)\n",
    "15\n",
    "\n",
    "#浮點數(float)\n",
    "15.0\n",
    "\n",
    "#字串(str)\n",
    "\"15\"\n",
    "\n",
    "#bool\n",
    "True\n",
    "False\n",
    "\n",
    "#空值\n",
    "None"
   ]
  },
  {
   "cell_type": "code",
   "execution_count": 11,
   "id": "da9537e1",
   "metadata": {},
   "outputs": [
    {
     "name": "stdout",
     "output_type": "stream",
     "text": [
      "13\n",
      "80\n",
      "28\n",
      "3.5\n",
      "3\n",
      "1\n",
      "81\n"
     ]
    }
   ],
   "source": [
    "#數學運算子\n",
    "#2元運算子\n",
    "#運算式(傳出數值)\n",
    "#整數+整數\n",
    "print(5+8)\n",
    "\n",
    "print(90 - 10 )\n",
    "\n",
    "print(4 * 7)\n",
    "\n",
    "print(7 / 2) #浮點數除法\n",
    "\n",
    "print(7 // 2) #整數除法\n",
    "\n",
    "print(7 % 3) #餘數\n",
    "\n",
    "print(3 ** 4)"
   ]
  }
 ],
 "metadata": {
  "kernelspec": {
   "display_name": "base",
   "language": "python",
   "name": "python3"
  },
  "language_info": {
   "codemirror_mode": {
    "name": "ipython",
    "version": 3
   },
   "file_extension": ".py",
   "mimetype": "text/x-python",
   "name": "python",
   "nbconvert_exporter": "python",
   "pygments_lexer": "ipython3",
   "version": "3.13.2"
  }
 },
 "nbformat": 4,
 "nbformat_minor": 5
}
