{
 "cells": [
  {
   "cell_type": "code",
   "execution_count": 36,
   "id": "42c52ec3",
   "metadata": {},
   "outputs": [
    {
     "name": "stdout",
     "output_type": "stream",
     "text": [
      "你的身高 175.0\n",
      "你的體重 65.0\n",
      "你的BMI是: 21.2\n",
      "計算結束\n"
     ]
    }
   ],
   "source": [
    "try:\n",
    "    height = float(input(\"請輸入你的身高(120cm-250cm):\"))\n",
    "    if height >= 120 and height <=250:\n",
    "        print(\"你的身高\" , height)\n",
    "    else:\n",
    "        print(\"身高輸入超出範圍，請重新輸入\")\n",
    "\n",
    "    weight = float(input(\"請輸入你的體重(30kg-200kg):\"))\n",
    "    if weight >= 30 and weight <=200:\n",
    "        print(\"你的體重\" , weight)\n",
    "    else:\n",
    "        print(\"體重輸入超出範圍，請重新輸入\")\n",
    "\n",
    "    BMI = weight / (height / 100) ** 2  \n",
    "    print(\"你的BMI是:\" , round(BMI,ndigits=1))\n",
    "except ValueError as e:\n",
    "    print(\"輸入錯誤\",e)\n",
    "except Exception as e:\n",
    "    print(e)\n",
    "\n",
    "print(\"計算結束\")"
   ]
  }
 ],
 "metadata": {
  "kernelspec": {
   "display_name": "base",
   "language": "python",
   "name": "python3"
  },
  "language_info": {
   "codemirror_mode": {
    "name": "ipython",
    "version": 3
   },
   "file_extension": ".py",
   "mimetype": "text/x-python",
   "name": "python",
   "nbconvert_exporter": "python",
   "pygments_lexer": "ipython3",
   "version": "3.13.2"
  }
 },
 "nbformat": 4,
 "nbformat_minor": 5
}
