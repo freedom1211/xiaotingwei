{
 "cells": [
  {
   "cell_type": "code",
   "execution_count": 2,
   "id": "c807a45d",
   "metadata": {},
   "outputs": [
    {
     "name": "stdout",
     "output_type": "stream",
     "text": [
      "大於等於60\n"
     ]
    }
   ],
   "source": [
    "scores = 78\n",
    "\n",
    "if scores >= 60:\n",
    "    print(\"大於等於60\")\n",
    "else:\n",
    "    print(\"小於60\")\n"
   ]
  },
  {
   "cell_type": "code",
   "execution_count": null,
   "id": "b1656e2e",
   "metadata": {},
   "outputs": [
    {
     "name": "stdout",
     "output_type": "stream",
     "text": [
      "scores > 80\n"
     ]
    }
   ],
   "source": [
    "## if  60 <= scores <= 80\n",
    "# 2個條件，巢狀判斷\n",
    "scores = 85\n",
    "\n",
    "if scores >= 60:\n",
    "    if scores <= 80:\n",
    "        print(\"60 <= scores <= 80\")\n",
    "    else:\n",
    "        print(\"scores > 80\")\n",
    "else:\n",
    "    print(\"score < 60\")"
   ]
  },
  {
   "cell_type": "code",
   "execution_count": 15,
   "id": "d04b9a6c",
   "metadata": {},
   "outputs": [
    {
     "name": "stdout",
     "output_type": "stream",
     "text": [
      "60 <= scores <= 80\n"
     ]
    }
   ],
   "source": [
    "## if  60 <= scores <= 80\n",
    "# 2個條件，邏輯運算子\n",
    "scores = 75\n",
    "if scores >= 60 and scores <= 80:\n",
    "    print(\"60 <= scores <= 80\")\n",
    "else:\n",
    "    print(\"scores可能大於80或小於60\")"
   ]
  },
  {
   "cell_type": "code",
   "execution_count": 16,
   "id": "84212dea",
   "metadata": {},
   "outputs": [
    {
     "name": "stdout",
     "output_type": "stream",
     "text": [
      "60 <= scores <= 80\n"
     ]
    }
   ],
   "source": [
    "## if  60 <= scores <= 80\n",
    "# 2個條件，邏輯運算子\n",
    "scores = 75\n",
    "if scores < 60 and scores > 80:\n",
    "    print(\"scores可能大於80或小於60\")\n",
    "else:\n",
    "    print(\"60 <= scores <= 80\")"
   ]
  }
 ],
 "metadata": {
  "kernelspec": {
   "display_name": "base",
   "language": "python",
   "name": "python3"
  },
  "language_info": {
   "codemirror_mode": {
    "name": "ipython",
    "version": 3
   },
   "file_extension": ".py",
   "mimetype": "text/x-python",
   "name": "python",
   "nbconvert_exporter": "python",
   "pygments_lexer": "ipython3",
   "version": "3.13.2"
  }
 },
 "nbformat": 4,
 "nbformat_minor": 5
}
