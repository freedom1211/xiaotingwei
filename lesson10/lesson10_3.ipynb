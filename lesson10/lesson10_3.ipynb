{
 "cells": [
  {
   "cell_type": "code",
   "execution_count": null,
   "id": "3a6d1a7c",
   "metadata": {},
   "outputs": [],
   "source": [
    "類別\n",
    "實體"
   ]
  },
  {
   "cell_type": "code",
   "execution_count": 7,
   "id": "4dfa0116",
   "metadata": {},
   "outputs": [
    {
     "name": "stdout",
     "output_type": "stream",
     "text": [
      "<class 'list'>\n"
     ]
    }
   ],
   "source": [
    "my_list:list = [i for i in range(10)]\n",
    "my_list\n",
    "print(type(my_list))\n",
    "my_list.append(10)"
   ]
  },
  {
   "cell_type": "code",
   "execution_count": null,
   "id": "31e82ba8",
   "metadata": {},
   "outputs": [
    {
     "data": {
      "text/plain": [
       "[0, 1, 2, 3, 4, 5, 6, 7, 8, 9, 10]"
      ]
     },
     "execution_count": 8,
     "metadata": {},
     "output_type": "execute_result"
    }
   ],
   "source": [
    "#建立my_list常用的實體方法\n",
    "my_list.clear()  # 清空列表\n",
    "my_list\n",
    "my_list.append(10)  # 在列表末尾添加元素\n",
    "my_list\n",
    "my_list.extend([11, 12])  # 在列表末尾添加多個元素\n",
    "my_list\n",
    "my_list.insert(0, -1)  # 在指定位置插入元素\n",
    "my_list\n",
    "my_list.remove(10)  # 移除列表中的第一個匹配項\n",
    "my_list\n",
    "my_list.pop()  # 移除並返回列表中的最後一個元素\n",
    "my_list"
   ]
  },
  {
   "cell_type": "code",
   "execution_count": 18,
   "id": "59a8d9c3",
   "metadata": {},
   "outputs": [
    {
     "data": {
      "text/plain": [
       "[10, 11]"
      ]
     },
     "execution_count": 18,
     "metadata": {},
     "output_type": "execute_result"
    }
   ],
   "source": [
    "my_list.clear()\n",
    "my_list\n",
    "my_list.append(10)\n",
    "my_list\n",
    "my_list.extend([11,12])\n",
    "my_list\n",
    "my_list.insert(0,-4)\n",
    "my_list\n",
    "my_list.remove(-4)\n",
    "my_list\n",
    "my_list.pop()\n",
    "my_list"
   ]
  },
  {
   "cell_type": "code",
   "execution_count": 8,
   "id": "c4db530c",
   "metadata": {},
   "outputs": [
    {
     "data": {
      "text/plain": [
       "['你', '我', '他']"
      ]
     },
     "execution_count": 8,
     "metadata": {},
     "output_type": "execute_result"
    }
   ],
   "source": [
    "#str的實體方法\n",
    "\"taipei\".upper()\n",
    "\"taipei\".capitalize()\n",
    "\" taipei \".strip()\n",
    "\"你,我,他\".split(\",\")"
   ]
  },
  {
   "cell_type": "code",
   "execution_count": null,
   "id": "b0ae5bb4",
   "metadata": {},
   "outputs": [],
   "source": []
  },
  {
   "cell_type": "code",
   "execution_count": null,
   "id": "6bf51517",
   "metadata": {},
   "outputs": [],
   "source": []
  }
 ],
 "metadata": {
  "kernelspec": {
   "display_name": "base",
   "language": "python",
   "name": "python3"
  },
  "language_info": {
   "codemirror_mode": {
    "name": "ipython",
    "version": 3
   },
   "file_extension": ".py",
   "mimetype": "text/x-python",
   "name": "python",
   "nbconvert_exporter": "python",
   "pygments_lexer": "ipython3",
   "version": "3.13.2"
  }
 },
 "nbformat": 4,
 "nbformat_minor": 5
}
